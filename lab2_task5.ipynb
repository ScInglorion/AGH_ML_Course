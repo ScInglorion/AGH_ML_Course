{
  "nbformat": 4,
  "nbformat_minor": 0,
  "metadata": {
    "colab": {
      "provenance": [],

      "include_colab_link": true
    },
    "kernelspec": {
      "name": "python3",
      "display_name": "Python 3"
    },
    "language_info": {
      "name": "python"
    }
  },
  "cells": [
    {
      "cell_type": "markdown",
      "metadata": {
        "id": "view-in-github",
        "colab_type": "text"
      },
      "source": [
        "<a href=\"https://colab.research.google.com/github/ScInglorion/AGH_ML_Course/blob/Karol/lab2_task5.ipynb\" target=\"_parent\"><img src=\"https://colab.research.google.com/assets/colab-badge.svg\" alt=\"Open In Colab\"/></a>"
      ]
    },
    {
      "cell_type": "code",
      "execution_count": null,
      "metadata": {
        "id": "-w5O3zJMx_8y"
      },
      "outputs": [],
      "source": [
        "def imba():\n",
        "    print(\"Karolek\")"
      ]
    },
    {
      "cell_type": "code",
      "source": [
        "def ggez():\n",
        "    print(\"Karolek2\")"
      ],
      "metadata": {
        "id": "mFgw5Jjwz8Si"
      },
      "execution_count": null,
      "outputs": []
    },
    {
      "cell_type": "code",
      "source": [
        "def essa():\n",
        "    return"
      ],
      "metadata": {
        "id": "6FWn5Nngz_JY"
      },
      "execution_count": null,
      "outputs": []
    },
    {
      "cell_type": "code",
      "source": [
        "def Coral():\n",
        "    print(\"Coral\")"
      ],
      "metadata": {
        "id": "IRsWGZJa0Epo"
      },
      "execution_count": null,
      "outputs": []
    },
    {
      "cell_type": "code",
      "source": [
        "imba()\n",
        "ggez()\n",
        "essa()\n",
        "Coral()"
      ],
      "metadata": {
        "id": "GRE_DkVF0Hpi"
      },
      "execution_count": null,
      "outputs": []
    },
    {
      "cell_type": "code",
      "source": [],
      "metadata": {
        "id": "qMZT4SyK0KZJ"
      },
      "execution_count": null,
      "outputs": []
    }
  ]
}