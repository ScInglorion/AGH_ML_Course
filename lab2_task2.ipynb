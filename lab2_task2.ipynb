{
  "nbformat": 4,
  "nbformat_minor": 0,
  "metadata": {
    "colab": {
      "provenance": [],
      "authorship_tag": "ABX9TyOkhu7fSeapHjrYIZ+fITrT",
      "include_colab_link": true
    },
    "kernelspec": {
      "name": "python3",
      "display_name": "Python 3"
    },
    "language_info": {
      "name": "python"
    }
  },
  "cells": [
    {
      "cell_type": "markdown",
      "metadata": {
        "id": "view-in-github",
        "colab_type": "text"
      },
      "source": [
        "<a href=\"https://colab.research.google.com/github/ScInglorion/AGH_ML_Course/blob/while_vatriant/lab2_task2.ipynb\" target=\"_parent\"><img src=\"https://colab.research.google.com/assets/colab-badge.svg\" alt=\"Open In Colab\"/></a>"
      ]
    },
    {
      "cell_type": "code",
      "execution_count": 9,
      "metadata": {
        "id": "iYrRBHkTplHG"
      },
      "outputs": [],
      "source": [
        "lst = [\"Karol\", \"Pach\", \"is\", \"a\", \"dude\"]"
      ]
    },
    {
      "cell_type": "code",
      "source": [
        "n=0\n",
        "while(n!= len(lst)):\n",
        "    print(lst[n])\n",
        "    n+=1"
      ],
      "metadata": {
        "id": "RtK3eAWbptSu",
        "outputId": "d2b18c76-96d1-43da-8d9c-e82d4f057705",
        "colab": {
          "base_uri": "https://localhost:8080/"
        }
      },
      "execution_count": 12,
      "outputs": [
        {
          "output_type": "stream",
          "name": "stdout",
          "text": [
            "Karol\n",
            "Pach\n",
            "is\n",
            "a\n",
            "dude\n"
          ]
        }
      ]
    },
    {
      "cell_type": "code",
      "source": [],
      "metadata": {
        "id": "_tV7BYy8p3Es"
      },
      "execution_count": null,
      "outputs": []
    },
    {
      "cell_type": "code",
      "source": [],
      "metadata": {
        "id": "eMWNtzR3p4XV"
      },
      "execution_count": null,
      "outputs": []
    },
    {
      "cell_type": "code",
      "source": [],
      "metadata": {
        "id": "QXg9c4-Lp5Zc"
      },
      "execution_count": null,
      "outputs": []
    }
  ]
}